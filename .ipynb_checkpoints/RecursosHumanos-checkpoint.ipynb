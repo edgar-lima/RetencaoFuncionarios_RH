{
 "cells": [
  {
   "cell_type": "markdown",
   "id": "fdaff54e-090d-46b9-b7ec-a5c38d35580e",
   "metadata": {},
   "source": [
    "# Departamento de Recursos Humanos"
   ]
  },
  {
   "cell_type": "markdown",
   "id": "7b732e49-d9bd-4334-a5ba-f70ec2ad2bf2",
   "metadata": {},
   "source": [
    "## Importanção das bibliotecas e base de dados"
   ]
  },
  {
   "cell_type": "code",
   "execution_count": null,
   "id": "42220d8b-6470-4846-9452-6f6e80821f2a",
   "metadata": {},
   "outputs": [],
   "source": []
  }
 ],
 "metadata": {
  "kernelspec": {
   "display_name": "Python 3 (ipykernel)",
   "language": "python",
   "name": "python3"
  },
  "language_info": {
   "codemirror_mode": {
    "name": "ipython",
    "version": 3
   },
   "file_extension": ".py",
   "mimetype": "text/x-python",
   "name": "python",
   "nbconvert_exporter": "python",
   "pygments_lexer": "ipython3",
   "version": "3.9.7"
  }
 },
 "nbformat": 4,
 "nbformat_minor": 5
}
